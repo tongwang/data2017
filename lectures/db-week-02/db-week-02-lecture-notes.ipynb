{
 "cells": [
  {
   "cell_type": "markdown",
   "metadata": {},
   "source": [
    "# More SQL DML and DDL\n",
    "\n",
    "## Data and environment setup"
   ]
  },
  {
   "cell_type": "code",
   "execution_count": null,
   "metadata": {},
   "outputs": [],
   "source": [
    "!wget -O survey.db http://files.software-carpentry.org/survey.db"
   ]
  },
  {
   "cell_type": "code",
   "execution_count": null,
   "metadata": {
    "collapsed": true
   },
   "outputs": [],
   "source": [
    "%load_ext sql"
   ]
  },
  {
   "cell_type": "code",
   "execution_count": null,
   "metadata": {},
   "outputs": [],
   "source": [
    "%sql sqlite:///survey.db"
   ]
  },
  {
   "cell_type": "markdown",
   "metadata": {},
   "source": [
    "## SQL JOINs"
   ]
  },
  {
   "cell_type": "markdown",
   "metadata": {},
   "source": [
    "Note first that a simple JOIN without further specification of common attributes will result in a cross product relation.  We see this by examining two tables and then taking a simple JOIN."
   ]
  },
  {
   "cell_type": "code",
   "execution_count": null,
   "metadata": {},
   "outputs": [],
   "source": [
    "%%sql\n",
    "SELECT *\n",
    "FROM Site;"
   ]
  },
  {
   "cell_type": "code",
   "execution_count": null,
   "metadata": {},
   "outputs": [],
   "source": [
    "%%sql\n",
    "SELECT *\n",
    "FROM Visited;"
   ]
  },
  {
   "cell_type": "markdown",
   "metadata": {},
   "source": [
    "Now we add the join, and we see the Cartesian product of both tables.  All possible combinations are produced in the resulting relation."
   ]
  },
  {
   "cell_type": "code",
   "execution_count": null,
   "metadata": {},
   "outputs": [],
   "source": [
    "%%sql\n",
    "SELECT * \n",
    "FROM Site \n",
    "JOIN Visited;"
   ]
  },
  {
   "cell_type": "markdown",
   "metadata": {},
   "source": [
    "Ordinarily we don't want to do this, but it's important to keep in mind that this is how things work under the hood.\n",
    "\n",
    "More typically, we'll specify at least one pair of common attributes between the two tables to align them properly."
   ]
  },
  {
   "cell_type": "code",
   "execution_count": null,
   "metadata": {},
   "outputs": [],
   "source": [
    "%%sql\n",
    "SELECT * \n",
    "FROM Site \n",
    "JOIN Visited \n",
    "  ON Site.name = Visited.site;"
   ]
  },
  {
   "cell_type": "markdown",
   "metadata": {},
   "source": [
    "Looks much neater, right?\n",
    "\n",
    "We can of course combine this with naming specific attributes to SELECT (project)."
   ]
  },
  {
   "cell_type": "code",
   "execution_count": null,
   "metadata": {},
   "outputs": [],
   "source": [
    "%%sql\n",
    "SELECT Site.lat, Site.long, Visited.dated\n",
    "FROM   Site\n",
    "JOIN   Visited\n",
    "ON     Site.name = Visited.site;"
   ]
  },
  {
   "cell_type": "markdown",
   "metadata": {},
   "source": [
    "There's a shorthand form of the `JOIN` statement that you will often see:  the common attributes can be specified in the `WHERE` clause."
   ]
  },
  {
   "cell_type": "code",
   "execution_count": null,
   "metadata": {},
   "outputs": [],
   "source": [
    "%%sql\n",
    "SELECT Site.lat, Site.long, Visited.dated\n",
    "FROM   Site, Visited\n",
    "WHERE  Site.name = Visited.site;"
   ]
  },
  {
   "cell_type": "markdown",
   "metadata": {},
   "source": [
    "Which you use can be a matter of personal preference or style.  For simple queries, this reads very clearly for me.  For more complex queries with more attribute selection conditions in the `WHERE` clause beyond specifying attributes to `JOIN` on, it can be better to split them up.\n",
    "\n",
    "Compare:"
   ]
  },
  {
   "cell_type": "code",
   "execution_count": null,
   "metadata": {},
   "outputs": [],
   "source": [
    "%%sql\n",
    "SELECT Site.lat, Site.long, Visited.dated\n",
    "FROM   Site, Visited\n",
    "WHERE  Site.name = Visited.site\n",
    "  AND  Visited.dated IS NOT NULL\n",
    "  AND  Site.lat < -48\n",
    "  AND  Site.long > -128;"
   ]
  },
  {
   "cell_type": "code",
   "execution_count": null,
   "metadata": {},
   "outputs": [],
   "source": [
    "%%sql\n",
    "SELECT Site.lat, Site.long, Visited.dated\n",
    "FROM   Site\n",
    "JOIN   Visited\n",
    "  ON   Site.name = Visited.site\n",
    "WHERE  Visited.dated IS NOT NULL\n",
    "  AND  Site.lat < -48\n",
    "  AND  Site.long > -128;"
   ]
  },
  {
   "cell_type": "markdown",
   "metadata": {},
   "source": [
    "The above two queries are identical logically, but they read differently.\n",
    "\n",
    "Finally, we can combine several tables at once - not just two!  This works by adding more tables into the `JOIN` operation."
   ]
  },
  {
   "cell_type": "code",
   "execution_count": null,
   "metadata": {},
   "outputs": [],
   "source": [
    "%%sql\n",
    "SELECT Site.lat, Site.long, Visited.dated, Survey.quant, Survey.reading\n",
    "FROM   Site\n",
    "JOIN   Visited \n",
    "  ON   Site.name = Visited.site\n",
    "JOIN   Survey \n",
    "  ON   Visited.ident = Survey.taken\n",
    "WHERE  Visited.dated IS NOT NULL;"
   ]
  },
  {
   "cell_type": "markdown",
   "metadata": {},
   "source": [
    "## Subqueries\n",
    "\n",
    "We can use the results from one query to constrain conditions on another.  Take for example the Person table:"
   ]
  },
  {
   "cell_type": "code",
   "execution_count": null,
   "metadata": {},
   "outputs": [],
   "source": [
    "%%sql\n",
    "SELECT ident\n",
    "FROM person\n",
    "WHERE ident LIKE 'd%';"
   ]
  },
  {
   "cell_type": "markdown",
   "metadata": {},
   "source": [
    "This represents a set, which we know we can use with the `IN` clause."
   ]
  },
  {
   "cell_type": "code",
   "execution_count": null,
   "metadata": {},
   "outputs": [],
   "source": [
    "%%sql\n",
    "SELECT * \n",
    "FROM survey\n",
    "WHERE person IN ('dyer', 'danforth')"
   ]
  },
  {
   "cell_type": "markdown",
   "metadata": {},
   "source": [
    "But imagine a case where there are dozens, hundreds, or even thousands of possible values.  You want to select carefully, without having to enumerate those possible values.  This is where subqueries work best."
   ]
  },
  {
   "cell_type": "code",
   "execution_count": null,
   "metadata": {},
   "outputs": [],
   "source": [
    "%%sql\n",
    "SELECT * \n",
    "FROM survey\n",
    "WHERE person IN \n",
    "    (SELECT ident\n",
    "     FROM person\n",
    "     WHERE ident LIKE 'd%');"
   ]
  },
  {
   "cell_type": "markdown",
   "metadata": {},
   "source": [
    "With this simple approach, you can expand in all directions as you might guess.  For example, let's add further attribute constraint conditions on both the main query and within the subquery."
   ]
  },
  {
   "cell_type": "code",
   "execution_count": null,
   "metadata": {
    "collapsed": true
   },
   "outputs": [],
   "source": [
    "%%sql\n",
    "SELECT * \n",
    "FROM survey\n",
    "WHERE person IN \n",
    "    (SELECT ident\n",
    "     FROM person\n",
    "     WHERE personal = 'Frank')\n",
    "AND reading > 7;"
   ]
  },
  {
   "cell_type": "markdown",
   "metadata": {},
   "source": [
    "This kind of nested subquery is extremely useful and is used quite often."
   ]
  },
  {
   "cell_type": "markdown",
   "metadata": {},
   "source": [
    "## Data definition (DDL)\n",
    "\n",
    "We're going to set up a similar database ourselves, so let's start a new one to avoid messing up the tutorial database."
   ]
  },
  {
   "cell_type": "code",
   "execution_count": null,
   "metadata": {},
   "outputs": [],
   "source": [
    "%sql sqlite:///demo.db"
   ]
  },
  {
   "cell_type": "markdown",
   "metadata": {},
   "source": [
    "When creating new tables, we often include a `DROP TABLE` command so that when the code is repeated it performs each `CREATE TABLE` cleanly.  The cleanest way to do this is with `DROP TABLE IF EXISTS`, which typically won't raise an error if the table doesn't already exist."
   ]
  },
  {
   "cell_type": "code",
   "execution_count": null,
   "metadata": {},
   "outputs": [],
   "source": [
    "%%sql\n",
    "DROP TABLE IF EXISTS Person;\n",
    "\n",
    "CREATE TABLE Person(\n",
    "    ident TEXT PRIMARY KEY, \n",
    "    personal TEXT NOT NULL, \n",
    "    family TEXT NOT NULL);\n",
    "\n",
    "DROP TABLE IF EXISTS Site;\n",
    "\n",
    "CREATE TABLE Site(\n",
    "    name TEXT PRIMARY KEY, \n",
    "    lat REAL NOT NULL, \n",
    "    long REAL NOT NULL);\n",
    "\n",
    "DROP TABLE IF EXISTS Visited;\n",
    "\n",
    "CREATE TABLE Visited(\n",
    "    ident INTEGER PRIMARY KEY, \n",
    "    site TEXT REFERENCE Site NOT NULL, \n",
    "    dated TEXT);\n",
    "\n",
    "DROP TABLE IF EXISTS Survey;\n",
    "\n",
    "CREATE TABLE Survey(\n",
    "    taken INTEGER REFERENCE Visited, \n",
    "    person TEXT REFERENCE Person, \n",
    "    quant REAL, \n",
    "    reading REAL);"
   ]
  },
  {
   "cell_type": "markdown",
   "metadata": {},
   "source": [
    "Now we can insert new records into our new tables."
   ]
  },
  {
   "cell_type": "code",
   "execution_count": null,
   "metadata": {},
   "outputs": [],
   "source": [
    "%%sql\n",
    "INSERT INTO Site values('DR-1', -49.85, -128.57);\n",
    "INSERT INTO Site values('DR-3', -47.15, -126.72);\n",
    "INSERT INTO Site values('MSK-4', -48.87, -123.40);\n",
    "\n",
    "SELECT * FROM Site;"
   ]
  },
  {
   "cell_type": "markdown",
   "metadata": {},
   "source": [
    "We can do the same thing in a single `INSERT` statement, too.  Note how this time we are specifying our own order of attributes, and our values match that order.  Otherwise, we'd have to follow the schema definition order."
   ]
  },
  {
   "cell_type": "code",
   "execution_count": null,
   "metadata": {},
   "outputs": [],
   "source": [
    "%%sql\n",
    "DELETE FROM Site;\n",
    "\n",
    "INSERT INTO Site (lat, long, name) \n",
    "VALUES \n",
    "    (-49.85, -128.57, 'DR-1'), \n",
    "    (-47.15, -126.72, 'DR-3'), \n",
    "    (-48.87, -123.40, 'MSK-4')\n",
    ";\n",
    "SELECT * FROM Site;"
   ]
  },
  {
   "cell_type": "markdown",
   "metadata": {},
   "source": [
    "With `INSERT`, we can also use subqueries."
   ]
  },
  {
   "cell_type": "code",
   "execution_count": null,
   "metadata": {},
   "outputs": [],
   "source": [
    "%%sql\n",
    "DROP TABLE IF EXISTS JustLatLong;\n",
    "CREATE TABLE JustLatLong(\n",
    "    lat text, \n",
    "    long text);\n",
    "\n",
    "INSERT INTO JustLatLong \n",
    "    SELECT lat, long FROM Site;"
   ]
  },
  {
   "cell_type": "code",
   "execution_count": null,
   "metadata": {},
   "outputs": [],
   "source": [
    "%%sql\n",
    "SELECT * FROM JustLatLong;"
   ]
  },
  {
   "cell_type": "markdown",
   "metadata": {},
   "source": [
    "## More DML:  UPDATE and DELETE\n",
    "\n",
    "`UPDATE` and `DELETE` statements are powerful as their changes apply immediately across an entire relation.  They are often written with specific constraints that limit their potential effect to precise conditions."
   ]
  },
  {
   "cell_type": "code",
   "execution_count": null,
   "metadata": {},
   "outputs": [],
   "source": [
    "%%sql\n",
    "SELECT * \n",
    "FROM Site\n",
    "WHERE name = 'MSK-4';"
   ]
  },
  {
   "cell_type": "code",
   "execution_count": null,
   "metadata": {},
   "outputs": [],
   "source": [
    "%%sql\n",
    "UPDATE Site \n",
    "SET lat = -48.88, long = -125.40 \n",
    "WHERE name = 'MSK-4';"
   ]
  },
  {
   "cell_type": "code",
   "execution_count": null,
   "metadata": {},
   "outputs": [],
   "source": [
    "%%sql\n",
    "SELECT * \n",
    "FROM Site\n",
    "WHERE name = 'MSK-4';"
   ]
  },
  {
   "cell_type": "code",
   "execution_count": null,
   "metadata": {},
   "outputs": [],
   "source": [
    "%%sql\n",
    "SELECT *\n",
    "FROM Site;"
   ]
  },
  {
   "cell_type": "code",
   "execution_count": null,
   "metadata": {},
   "outputs": [],
   "source": [
    "%%sql\n",
    "DELETE FROM Site \n",
    "WHERE name = 'DR-3';"
   ]
  },
  {
   "cell_type": "code",
   "execution_count": null,
   "metadata": {},
   "outputs": [],
   "source": [
    "%%sql\n",
    "SELECT * \n",
    "FROM Site;"
   ]
  },
  {
   "cell_type": "code",
   "execution_count": null,
   "metadata": {},
   "outputs": [],
   "source": [
    "%%sql\n",
    "UPDATE Site\n",
    "SET lat = -50;"
   ]
  },
  {
   "cell_type": "code",
   "execution_count": null,
   "metadata": {},
   "outputs": [],
   "source": [
    "%%sql\n",
    "SELECT *\n",
    "FROM Site;"
   ]
  },
  {
   "cell_type": "code",
   "execution_count": null,
   "metadata": {},
   "outputs": [],
   "source": [
    "%%sql\n",
    "DELETE FROM Site;"
   ]
  },
  {
   "cell_type": "code",
   "execution_count": null,
   "metadata": {},
   "outputs": [],
   "source": [
    "%%sql\n",
    "SELECT *\n",
    "FROM Site;"
   ]
  }
 ],
 "metadata": {
  "anaconda-cloud": {},
  "kernelspec": {
   "display_name": "Python 3",
   "language": "python",
   "name": "python3"
  },
  "language_info": {
   "codemirror_mode": {
    "name": "ipython",
    "version": 3
   },
   "file_extension": ".py",
   "mimetype": "text/x-python",
   "name": "python",
   "nbconvert_exporter": "python",
   "pygments_lexer": "ipython3",
   "version": "3.5.3"
  }
 },
 "nbformat": 4,
 "nbformat_minor": 1
}
