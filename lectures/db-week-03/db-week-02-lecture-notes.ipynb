{
 "cells": [
  {
   "cell_type": "markdown",
   "metadata": {},
   "source": [
    "# SQL Indexes and basic ETL\n",
    "\n",
    "This week we'll take a look at working with indexes and how examining query plans can shed light on query performance and database design.  Then we'll switch gears and look at extracting values from transactional data in a variety of ways.\n",
    "\n",
    "## Setup - bikeshare data, again\n",
    "\n",
    "We'll download the same Bikeshare data you've worked with before, and we'll create some database tables and indexes more deliberately before using PostgreSQL."
   ]
  },
  {
   "cell_type": "code",
   "execution_count": null,
   "metadata": {
    "collapsed": false
   },
   "outputs": [],
   "source": [
    "%load_ext sql"
   ]
  },
  {
   "cell_type": "code",
   "execution_count": null,
   "metadata": {
    "collapsed": true
   },
   "outputs": [],
   "source": [
    "!createdb week6"
   ]
  },
  {
   "cell_type": "code",
   "execution_count": null,
   "metadata": {
    "collapsed": false
   },
   "outputs": [],
   "source": [
    "%sql postgresql://dchud@localhost:5432/week6"
   ]
  },
  {
   "cell_type": "code",
   "execution_count": null,
   "metadata": {
    "collapsed": false
   },
   "outputs": [],
   "source": [
    "!wget https://raw.githubusercontent.com/gwsb-istm-6212-fall-2016/syllabus-and-schedule/master/projects/project-01/2016q1.csv.zip"
   ]
  },
  {
   "cell_type": "code",
   "execution_count": null,
   "metadata": {
    "collapsed": false
   },
   "outputs": [],
   "source": [
    "!unzip 2016q1.csv.zip"
   ]
  },
  {
   "cell_type": "code",
   "execution_count": null,
   "metadata": {
    "collapsed": false
   },
   "outputs": [],
   "source": [
    "!wc -l 2016q1.csv"
   ]
  },
  {
   "cell_type": "code",
   "execution_count": null,
   "metadata": {
    "collapsed": false
   },
   "outputs": [],
   "source": [
    "!csvcut -n 2016q1.csv"
   ]
  },
  {
   "cell_type": "markdown",
   "metadata": {},
   "source": [
    "### Two ways to create this table\n",
    "\n",
    "First, what we did before, renaming the header line by hand to make it easier to read and type queries."
   ]
  },
  {
   "cell_type": "code",
   "execution_count": null,
   "metadata": {
    "collapsed": true
   },
   "outputs": [],
   "source": [
    "!echo \"duration_ms,start_date,end_date,start_station_id,start_station,end_station_id,end_station,bike_id,member_type\" > rides.csv"
   ]
  },
  {
   "cell_type": "code",
   "execution_count": null,
   "metadata": {
    "collapsed": true
   },
   "outputs": [],
   "source": [
    "!tail -n +2 2016q1.csv >> rides.csv"
   ]
  },
  {
   "cell_type": "markdown",
   "metadata": {},
   "source": [
    "Let's make sure we did that correctly."
   ]
  },
  {
   "cell_type": "code",
   "execution_count": null,
   "metadata": {
    "collapsed": false
   },
   "outputs": [],
   "source": [
    "!head -3 rides.csv | csvlook"
   ]
  },
  {
   "cell_type": "code",
   "execution_count": null,
   "metadata": {
    "collapsed": true
   },
   "outputs": [],
   "source": [
    "!csvsql --db postgresql://dchud@localhost:5432/week6 --insert rides.csv"
   ]
  },
  {
   "cell_type": "code",
   "execution_count": null,
   "metadata": {
    "collapsed": false
   },
   "outputs": [],
   "source": [
    "%%sql\n",
    "SELECT COUNT(*) FROM rides;"
   ]
  },
  {
   "cell_type": "markdown",
   "metadata": {},
   "source": [
    "That was a little slow.  Let's look at something more direct, using PostgreSQL's support for CSV import.\n",
    "\n",
    "First, we take a look at a sample of the data to determine its attributes' domains and ranges."
   ]
  },
  {
   "cell_type": "code",
   "execution_count": null,
   "metadata": {
    "collapsed": false
   },
   "outputs": [],
   "source": [
    "!gshuf -n 10000 rides.csvcsv.csv | csvstat"
   ]
  },
  {
   "cell_type": "markdown",
   "metadata": {},
   "source": [
    "Based on these values, I expect we can work with the following:"
   ]
  },
  {
   "cell_type": "code",
   "execution_count": null,
   "metadata": {
    "collapsed": false
   },
   "outputs": [],
   "source": [
    "%%sql\n",
    "DROP TABLE IF EXISTS rides;\n",
    "CREATE TABLE rides (\n",
    "    duration_ms INTEGER,\n",
    "    start_date TIMESTAMP,\n",
    "    end_date TIMESTAMP,\n",
    "    start_station_id INTEGER,\n",
    "    start_station VARCHAR(64),\n",
    "    end_station_id INTEGER,\n",
    "    end_station VARCHAR(64),\n",
    "    bike_number CHAR(6),\n",
    "    member_type CHAR(10)\n",
    ")"
   ]
  },
  {
   "cell_type": "markdown",
   "metadata": {},
   "source": [
    "Now we'll load the data in more simply.  Note that this **requires** the use of an absolute path, so adjust it to your location:"
   ]
  },
  {
   "cell_type": "code",
   "execution_count": null,
   "metadata": {
    "collapsed": false
   },
   "outputs": [],
   "source": [
    "!pwd"
   ]
  },
  {
   "cell_type": "code",
   "execution_count": null,
   "metadata": {
    "collapsed": false
   },
   "outputs": [],
   "source": [
    "%%sql\n",
    "COPY rides FROM '/Users/dchud/Documents/Dropbox/teach/2016-fall-data-management/syllabus-and-schedule/lectures/week-06/2016q1.csv'\n",
    "CSV\n",
    "HEADER\n",
    "QUOTE '\"'\n",
    "DELIMITER ',';"
   ]
  },
  {
   "cell_type": "code",
   "execution_count": null,
   "metadata": {
    "collapsed": false
   },
   "outputs": [],
   "source": [
    "%%sql\n",
    "SELECT COUNT(*) FROM rides;"
   ]
  },
  {
   "cell_type": "markdown",
   "metadata": {},
   "source": [
    "By the way, you can extract a schema from a pgsql instance with the following query, which uses the INFORMATION_SCHEMA metadata database."
   ]
  },
  {
   "cell_type": "code",
   "execution_count": null,
   "metadata": {
    "collapsed": false
   },
   "outputs": [],
   "source": [
    "%%sql\n",
    "SELECT column_name, data_type, character_maximum_length, is_nullable\n",
    "FROM INFORMATION_SCHEMA.COLUMNS WHERE table_name = 'rides';"
   ]
  },
  {
   "cell_type": "markdown",
   "metadata": {},
   "source": [
    "## Working with indexes\n",
    "\n",
    "Let's find a query that will go a little slow, and see how pgsql plans to implement it.\n",
    "\n",
    "For example, what are the popular station pairs that result in the slowest average rides?"
   ]
  },
  {
   "cell_type": "code",
   "execution_count": null,
   "metadata": {
    "collapsed": false
   },
   "outputs": [],
   "source": [
    "%%sql\n",
    "SELECT start_station, end_station, ROUND(AVG(duration_ms / (1000 * 60)), 1) AS minutes, COUNT(*) AS c, member_type\n",
    "FROM rides\n",
    "GROUP BY start_station, end_station, member_type\n",
    "ORDER BY minutes DESC\n",
    "LIMIT 10;"
   ]
  },
  {
   "cell_type": "markdown",
   "metadata": {},
   "source": [
    "That was pretty slow... so we can definitely use indexes to speed things up.  First, though, let's look at the counts and member_types.  We want more popular station pairs, first of all, so let's set a minimum count level."
   ]
  },
  {
   "cell_type": "code",
   "execution_count": null,
   "metadata": {
    "collapsed": false
   },
   "outputs": [],
   "source": [
    "%%sql\n",
    "SELECT start_station, end_station, ROUND(AVG(duration_ms / (1000 * 60)), 1) AS minutes, COUNT(*) AS c, member_type\n",
    "FROM rides\n",
    "GROUP BY start_station, end_station, member_type\n",
    "HAVING COUNT(*) > 90\n",
    "ORDER BY minutes DESC\n",
    "LIMIT 10;"
   ]
  },
  {
   "cell_type": "markdown",
   "metadata": {},
   "source": [
    "That's better.  But it's slow.  Let's see how pgsql goes about it using `EXPLAIN`:"
   ]
  },
  {
   "cell_type": "code",
   "execution_count": null,
   "metadata": {
    "collapsed": false
   },
   "outputs": [],
   "source": [
    "%%sql\n",
    "EXPLAIN\n",
    "SELECT start_station, end_station, ROUND(AVG(duration_ms / (1000 * 60)), 1) AS minutes, COUNT(*) AS c, member_type\n",
    "FROM rides\n",
    "GROUP BY start_station, end_station, member_type\n",
    "HAVING COUNT(*) > 90\n",
    "ORDER BY minutes DESC\n",
    "LIMIT 10;"
   ]
  },
  {
   "cell_type": "markdown",
   "metadata": {},
   "source": [
    "There's a lot to unpack in there.  Read it from the inside out to figure out what it's doing.\n",
    "\n",
    " * `Seq Scan on rides` - this is a table scan, which will be slow\n",
    " * `Sort Key: start_station, end_station, member_type` - we're performing a sort across all three attributes\n",
    " * `Filter: (count(*) > 90)` - there's our selection constraint\n",
    " * `Sort Key: (round(avg((duration_ms / 60000)), 1)) DESC` - look, another sort!  what's the difference between the two?\n",
    " * `Limit (cost=101201.41..101201.44 rows=10 width=63)` - can you guess what each element here means?\n",
    " \n",
    "To speed things up, we need an index.  Let's start with one on `start_station`."
   ]
  },
  {
   "cell_type": "code",
   "execution_count": null,
   "metadata": {
    "collapsed": false
   },
   "outputs": [],
   "source": [
    "%%sql\n",
    "DROP INDEX IF EXISTS idx_start_station;\n",
    "CREATE INDEX idx_start_station ON rides (start_station);"
   ]
  },
  {
   "cell_type": "markdown",
   "metadata": {},
   "source": [
    "Note that it takes a few seconds - it's building that indexing structure, then storing it on disk.  Remember the metrics we discussed for different index types?  This step invokes both the insert time and storage overhead metrics.\n",
    "\n",
    "The key thing is whether the query will go faster, so let's check"
   ]
  },
  {
   "cell_type": "code",
   "execution_count": null,
   "metadata": {
    "collapsed": false
   },
   "outputs": [],
   "source": [
    "%%sql\n",
    "EXPLAIN\n",
    "SELECT start_station, end_station, ROUND(AVG(duration_ms / (1000 * 60)), 1) AS minutes, COUNT(*) AS c, member_type\n",
    "FROM rides\n",
    "GROUP BY start_station, end_station, member_type\n",
    "HAVING COUNT(*) > 90\n",
    "ORDER BY minutes DESC\n",
    "LIMIT 10;"
   ]
  },
  {
   "cell_type": "markdown",
   "metadata": {},
   "source": [
    "It doesn't look like it will be any faster?  Why not?\n",
    "\n",
    "We need to create a different kind of index.  That most-nested sort is being done on a combination of three attributes at once.  So let's create an index on all three."
   ]
  },
  {
   "cell_type": "code",
   "execution_count": null,
   "metadata": {
    "collapsed": false
   },
   "outputs": [],
   "source": [
    "%%sql\n",
    "DROP INDEX IF EXISTS idx_stations_member_type;\n",
    "CREATE INDEX idx_stations_member_type ON rides (start_station, end_station, member_type);"
   ]
  },
  {
   "cell_type": "code",
   "execution_count": null,
   "metadata": {
    "collapsed": false
   },
   "outputs": [],
   "source": [
    "%%sql\n",
    "EXPLAIN\n",
    "SELECT start_station, end_station, ROUND(AVG(duration_ms / (1000 * 60)), 1) AS minutes, COUNT(*) AS c, member_type\n",
    "FROM rides\n",
    "GROUP BY start_station, end_station, member_type\n",
    "HAVING COUNT(*) > 90\n",
    "ORDER BY minutes DESC\n",
    "LIMIT 10;"
   ]
  },
  {
   "cell_type": "markdown",
   "metadata": {},
   "source": [
    "Now we're getting somewhere!  Look at that last line:\n",
    "\n",
    "* `Index Scan using idx_stations_member_type` - this means the optimizer found our index and will use it\n",
    "\n",
    "And the result is *speed*:"
   ]
  },
  {
   "cell_type": "code",
   "execution_count": null,
   "metadata": {
    "collapsed": false
   },
   "outputs": [],
   "source": [
    "%%sql\n",
    "SELECT start_station, end_station, ROUND(AVG(duration_ms / (1000 * 60)), 1) AS minutes, COUNT(*) AS c, member_type\n",
    "FROM rides\n",
    "GROUP BY start_station, end_station, member_type\n",
    "HAVING COUNT(*) > 90\n",
    "ORDER BY minutes DESC\n",
    "LIMIT 10;"
   ]
  },
  {
   "cell_type": "markdown",
   "metadata": {},
   "source": [
    "Much better, right?\n",
    "\n",
    "Let's refine our query a bit more.  First, something weird is going on with those rides that start and end at the same place, so let's dump 'em."
   ]
  },
  {
   "cell_type": "code",
   "execution_count": null,
   "metadata": {
    "collapsed": false
   },
   "outputs": [],
   "source": [
    "%%sql\n",
    "SELECT start_station, end_station, ROUND(AVG(duration_ms / (1000 * 60)), 1) AS minutes, COUNT(*) AS c, member_type\n",
    "FROM rides\n",
    "WHERE start_station != end_station\n",
    "GROUP BY start_station, end_station, member_type\n",
    "HAVING COUNT(*) > 90\n",
    "ORDER BY minutes DESC\n",
    "LIMIT 10;"
   ]
  },
  {
   "cell_type": "markdown",
   "metadata": {},
   "source": [
    "Next, because there are clearly a lot of tourists circling the National Mall, let's look at regular riders."
   ]
  },
  {
   "cell_type": "code",
   "execution_count": null,
   "metadata": {
    "collapsed": false
   },
   "outputs": [],
   "source": [
    "%%sql\n",
    "SELECT start_station, end_station, ROUND(AVG(duration_ms / (1000 * 60)), 1) AS minutes, COUNT(*) AS c, member_type\n",
    "FROM rides\n",
    "WHERE start_station != end_station\n",
    "  AND member_type = 'Registered'\n",
    "GROUP BY start_station, end_station, member_type\n",
    "HAVING COUNT(*) > 90\n",
    "ORDER BY minutes DESC\n",
    "LIMIT 10;"
   ]
  },
  {
   "cell_type": "markdown",
   "metadata": {},
   "source": [
    "And the same, but let's recreate our station counts from the last project this time."
   ]
  },
  {
   "cell_type": "code",
   "execution_count": null,
   "metadata": {
    "collapsed": false
   },
   "outputs": [],
   "source": [
    "%%sql\n",
    "SELECT start_station, ROUND(AVG(duration_ms / (1000 * 60)), 1) AS minutes, COUNT(*) AS c, member_type\n",
    "FROM rides\n",
    "WHERE start_station != end_station\n",
    "GROUP BY start_station, member_type\n",
    "HAVING COUNT(*) > 90\n",
    "ORDER BY COUNT(*) DESC\n",
    "LIMIT 10;"
   ]
  },
  {
   "cell_type": "code",
   "execution_count": null,
   "metadata": {
    "collapsed": false
   },
   "outputs": [],
   "source": [
    "%%sql\n",
    "SELECT end_station, ROUND(AVG(duration_ms / (1000 * 60)), 1) AS minutes, COUNT(*) AS c, member_type\n",
    "FROM rides\n",
    "WHERE start_station != end_station\n",
    "GROUP BY end_station, member_type\n",
    "HAVING COUNT(*) > 90\n",
    "ORDER BY COUNT(*) DESC\n",
    "LIMIT 10;"
   ]
  },
  {
   "cell_type": "markdown",
   "metadata": {},
   "source": [
    "Do these look familiar?  Let's do the same, but for bikes."
   ]
  },
  {
   "cell_type": "code",
   "execution_count": null,
   "metadata": {
    "collapsed": false
   },
   "outputs": [],
   "source": [
    "%%sql\n",
    "SELECT bike_number, COUNT(*) AS c\n",
    "FROM rides\n",
    "WHERE start_station = 'Columbus Circle / Union Station'\n",
    "GROUP BY bike_number\n",
    "ORDER BY COUNT(*) DESC\n",
    "LIMIT 10;"
   ]
  },
  {
   "cell_type": "markdown",
   "metadata": {},
   "source": [
    "Let's try this again all in one with a subquery.  First we make sure we get the nested subquery part right."
   ]
  },
  {
   "cell_type": "code",
   "execution_count": null,
   "metadata": {
    "collapsed": false
   },
   "outputs": [],
   "source": [
    "%%sql\n",
    "SELECT start_station, COUNT(*)\n",
    "FROM rides\n",
    "GROUP BY start_station\n",
    "ORDER BY COUNT(*) DESC\n",
    "LIMIT 10;"
   ]
  },
  {
   "cell_type": "markdown",
   "metadata": {},
   "source": [
    "Looks good.  Now let's insert the one into the other, removing the `COUNT()` from the subquery."
   ]
  },
  {
   "cell_type": "code",
   "execution_count": null,
   "metadata": {
    "collapsed": false
   },
   "outputs": [],
   "source": [
    "%%sql\n",
    "SELECT bike_number, COUNT(*) AS c\n",
    "FROM rides\n",
    "WHERE start_station IN\n",
    "    (SELECT start_station\n",
    "     FROM rides\n",
    "     GROUP BY start_station\n",
    "     ORDER BY COUNT(*) DESC\n",
    "     LIMIT 1)\n",
    "GROUP BY bike_number\n",
    "ORDER BY COUNT(*) DESC\n",
    "LIMIT 10;"
   ]
  },
  {
   "cell_type": "markdown",
   "metadata": {},
   "source": [
    "Review the query plan from `EXPLAIN` on that one.  See anything familiar in there?"
   ]
  },
  {
   "cell_type": "code",
   "execution_count": null,
   "metadata": {
    "collapsed": false
   },
   "outputs": [],
   "source": [
    "%%sql\n",
    "EXPLAIN\n",
    "SELECT bike_number, COUNT(*) AS c\n",
    "FROM rides\n",
    "WHERE start_station IN\n",
    "    (SELECT start_station\n",
    "     FROM rides\n",
    "     GROUP BY start_station\n",
    "     ORDER BY COUNT(*) DESC\n",
    "     LIMIT 1)\n",
    "GROUP BY bike_number\n",
    "ORDER BY COUNT(*) DESC\n",
    "LIMIT 10;"
   ]
  },
  {
   "cell_type": "markdown",
   "metadata": {},
   "source": [
    "## Basic ETL with SQL\n",
    "\n",
    "Today we'll look at examples of how to extract consistent sets of values out of your database.  ETL as a whole consists of a lot more than just this, but because every environment has their own tools and approach, we'll just be getting a taste of it here.\n",
    "\n",
    "First let's look at extracting simple details like station names."
   ]
  },
  {
   "cell_type": "code",
   "execution_count": null,
   "metadata": {
    "collapsed": false
   },
   "outputs": [],
   "source": [
    "%%sql\n",
    "SELECT DISTINCT start_station\n",
    "FROM rides\n",
    "ORDER BY start_station;"
   ]
  },
  {
   "cell_type": "code",
   "execution_count": null,
   "metadata": {
    "collapsed": false
   },
   "outputs": [],
   "source": [
    "%%sql\n",
    "SELECT DISTINCT end_station\n",
    "FROM rides\n",
    "ORDER BY end_station;"
   ]
  },
  {
   "cell_type": "markdown",
   "metadata": {},
   "source": [
    "To be sure we get them all, we need to combine them into a union set."
   ]
  },
  {
   "cell_type": "code",
   "execution_count": null,
   "metadata": {
    "collapsed": false
   },
   "outputs": [],
   "source": [
    "%%sql\n",
    "SELECT station\n",
    "FROM (\n",
    "    SELECT DISTINCT start_station AS station FROM rides\n",
    "    UNION\n",
    "    SELECT DISTINCT end_station AS station FROM rides\n",
    "    ) AS d\n",
    ";"
   ]
  },
  {
   "cell_type": "markdown",
   "metadata": {},
   "source": [
    "Now we can create a new table to house the unique station names."
   ]
  },
  {
   "cell_type": "code",
   "execution_count": null,
   "metadata": {
    "collapsed": false
   },
   "outputs": [],
   "source": [
    "%%sql\n",
    "DROP TABLE IF EXISTS stations;\n",
    "CREATE TABLE stations (\n",
    "    id SERIAL,\n",
    "    name VARCHAR(64)\n",
    ");"
   ]
  },
  {
   "cell_type": "code",
   "execution_count": null,
   "metadata": {
    "collapsed": false
   },
   "outputs": [],
   "source": [
    "%%sql\n",
    "INSERT INTO stations (name)\n",
    "SELECT station FROM (\n",
    "    SELECT DISTINCT start_station AS station FROM rides\n",
    "    UNION\n",
    "    SELECT DISTINCT end_station AS station FROM rides\n",
    ") AS d;"
   ]
  },
  {
   "cell_type": "code",
   "execution_count": null,
   "metadata": {
    "collapsed": false
   },
   "outputs": [],
   "source": [
    "%%sql\n",
    "SELECT * FROM stations LIMIT 10;"
   ]
  },
  {
   "cell_type": "markdown",
   "metadata": {},
   "source": [
    "We can even add these new identifiers back to the original table now."
   ]
  },
  {
   "cell_type": "code",
   "execution_count": null,
   "metadata": {
    "collapsed": false
   },
   "outputs": [],
   "source": [
    "%%sql\n",
    "ALTER TABLE rides \n",
    "ADD COLUMN start_station_nid INTEGER;"
   ]
  },
  {
   "cell_type": "code",
   "execution_count": null,
   "metadata": {
    "collapsed": false
   },
   "outputs": [],
   "source": [
    "%%sql\n",
    "UPDATE rides AS r\n",
    "SET start_station_nid = s.id\n",
    "FROM stations AS s\n",
    "WHERE r.start_station = s.name;"
   ]
  },
  {
   "cell_type": "code",
   "execution_count": null,
   "metadata": {
    "collapsed": false
   },
   "outputs": [],
   "source": [
    "%%sql\n",
    "SELECT * FROM rides\n",
    "LIMIT 5;"
   ]
  },
  {
   "cell_type": "markdown",
   "metadata": {},
   "source": [
    "This isn't the most useful approach, as we already have IDs for the stations, but you can see how we might create them if we didn't yet.\n",
    "\n",
    "More useful might be recording the minutes as a new column so we don't have to calculate from milliseconds every time."
   ]
  },
  {
   "cell_type": "code",
   "execution_count": null,
   "metadata": {
    "collapsed": false
   },
   "outputs": [],
   "source": [
    "%%sql\n",
    "ALTER TABLE rides\n",
    "ADD COLUMN duration_min NUMERIC;"
   ]
  },
  {
   "cell_type": "code",
   "execution_count": null,
   "metadata": {
    "collapsed": false
   },
   "outputs": [],
   "source": [
    "%%sql\n",
    "UPDATE rides\n",
    "SET duration_min = ROUND(CAST(duration_ms AS NUMERIC) / (1000 * 60), 1);"
   ]
  },
  {
   "cell_type": "code",
   "execution_count": null,
   "metadata": {
    "collapsed": false
   },
   "outputs": [],
   "source": [
    "%%sql\n",
    "SELECT duration_ms, duration_min FROM rides\n",
    "LIMIT 5;"
   ]
  },
  {
   "cell_type": "markdown",
   "metadata": {},
   "source": [
    "Another valuable pattern is to use date functions to extract particular time intervals, such as months or days.  Every RDBMS has its own set of date functions, unfortunately you will likely just have to learn the ones used by the system in your environment.\n",
    "\n",
    "Read more in the [documentation for PostgreSQL date formatting](https://www.postgresql.org/docs/9.5/static/functions-formatting.html)."
   ]
  },
  {
   "cell_type": "code",
   "execution_count": null,
   "metadata": {
    "collapsed": false
   },
   "outputs": [],
   "source": [
    "%%sql\n",
    "SELECT EXTRACT(DAY FROM start_date), EXTRACT(MONTH FROM start_date), EXTRACT(YEAR FROM start_date)\n",
    "FROM rides\n",
    "LIMIT 10;"
   ]
  },
  {
   "cell_type": "markdown",
   "metadata": {},
   "source": [
    "In data warehouse models and in statistical model feature engineering, it can be particularly useful to extract all kinds of parts of dates out into variables.  You never know where you'll find significance.\n",
    "\n",
    "This kind of extraction is quite common."
   ]
  },
  {
   "cell_type": "code",
   "execution_count": null,
   "metadata": {
    "collapsed": false
   },
   "outputs": [],
   "source": [
    "%%sql\n",
    "SELECT TO_CHAR(start_date, 'YYYY-MM-DD') AS day_of_year, \n",
    "    TO_CHAR(start_date, 'YYYY') AS year,\n",
    "    TO_CHAR(start_date, 'MM') AS month,\n",
    "    TO_CHAR(start_date, 'DD') AS day,\n",
    "    TO_CHAR(start_date, 'Day') AS day_of_week_str,\n",
    "    TO_CHAR(start_date, 'D') AS day_of_week,\n",
    "    CASE WHEN CAST(TO_CHAR(start_date, 'D') AS INTEGER) >= 6 \n",
    "        THEN 1 \n",
    "        ELSE 0\n",
    "    END AS is_weekend,\n",
    "    CASE WHEN CAST(TO_CHAR(start_date, 'D') AS INTEGER) < 6 \n",
    "        THEN 1 \n",
    "        ELSE 0\n",
    "    END AS is_weekday,\n",
    "    TO_CHAR(start_date, 'HH24') AS hour_24,\n",
    "    TO_CHAR(start_date, 'Q') AS quarter\n",
    "FROM rides\n",
    "LIMIT 10;"
   ]
  },
  {
   "cell_type": "markdown",
   "metadata": {},
   "source": [
    "## GROUPING SETS, ROLLUP, CUBE"
   ]
  },
  {
   "cell_type": "code",
   "execution_count": null,
   "metadata": {
    "collapsed": false
   },
   "outputs": [],
   "source": [
    "%%sql\n",
    "SELECT start_station, end_station, member_type, COUNT(*) AS c\n",
    "FROM rides\n",
    "GROUP BY start_station, end_station, member_type\n",
    "HAVING COUNT(*) > 300\n",
    "ORDER BY start_station, end_station, member_type;"
   ]
  },
  {
   "cell_type": "code",
   "execution_count": null,
   "metadata": {
    "collapsed": false,
    "scrolled": true
   },
   "outputs": [],
   "source": [
    "%%sql\n",
    "SELECT start_station, end_station, member_type, COUNT(*) AS c\n",
    "FROM rides\n",
    "GROUP BY GROUPING SETS ((start_station, end_station, member_type), (start_station), (member_type), ())\n",
    "HAVING COUNT(*) > 300;"
   ]
  },
  {
   "cell_type": "markdown",
   "metadata": {},
   "source": [
    "This generates a list with both the top station pairs and the total counts for each start station.\n",
    "\n",
    "`ROLLUP` generates a similar set of increasingly aggregated summaries, lopping off one column from the right at a time."
   ]
  },
  {
   "cell_type": "code",
   "execution_count": null,
   "metadata": {
    "collapsed": false
   },
   "outputs": [],
   "source": [
    "%%sql\n",
    "SELECT start_station, end_station, member_type, COUNT(*) AS c\n",
    "FROM rides\n",
    "GROUP BY ROLLUP (start_station, end_station, member_type)\n",
    "HAVING COUNT(*) > 300;"
   ]
  },
  {
   "cell_type": "markdown",
   "metadata": {},
   "source": [
    "`CUBE` generates summaries for the entire set of attributes and its possible subsets."
   ]
  },
  {
   "cell_type": "code",
   "execution_count": null,
   "metadata": {
    "collapsed": false
   },
   "outputs": [],
   "source": [
    "%%sql\n",
    "SELECT start_station, end_station, member_type, COUNT(*) AS c\n",
    "FROM rides\n",
    "GROUP BY CUBE (start_station, end_station, member_type)\n",
    "HAVING COUNT(*) > 300;"
   ]
  }
 ],
 "metadata": {
  "anaconda-cloud": {},
  "kernelspec": {
   "display_name": "Python [conda env:mc3-class]",
   "language": "python",
   "name": "conda-env-mc3-class-py"
  },
  "language_info": {
   "codemirror_mode": {
    "name": "ipython",
    "version": 3
   },
   "file_extension": ".py",
   "mimetype": "text/x-python",
   "name": "python",
   "nbconvert_exporter": "python",
   "pygments_lexer": "ipython3",
   "version": "3.5.2"
  }
 },
 "nbformat": 4,
 "nbformat_minor": 1
}
