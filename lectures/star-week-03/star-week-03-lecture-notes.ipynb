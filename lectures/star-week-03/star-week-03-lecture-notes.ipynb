{
 "cells": [
  {
   "cell_type": "markdown",
   "metadata": {},
   "source": [
    "# Snapshot Fact Table\n",
    "\n",
    "This week we'll build up a very simple snapshot fact table using the weather data.\n",
    "\n",
    "## Setup - install PostgreSQL (Optional)\n",
    "\n",
    "We are going to use [PostgreSQL](https://www.postgresql.org) 9.5 or later version this time. If you are using AWS EC2 instances based on our AMI, you can skip this section. If postgresql is not installed, follow the [instructions](https://www.postgresql.org/download/linux/) to install it."
   ]
  },
  {
   "cell_type": "markdown",
   "metadata": {},
   "source": [
    "In order to connect to PostgreSQL, we need to make sure [ipython-sql](https://github.com/catherinedevlin/ipython-sql) and [psycopg2](https://github.com/psycopg/psycopg2) libraries are installed."
   ]
  },
  {
   "cell_type": "code",
   "execution_count": null,
   "metadata": {},
   "outputs": [],
   "source": [
    "!pip freeze | grep 'ipython-sql\\|psycopg2'"
   ]
  },
  {
   "cell_type": "markdown",
   "metadata": {},
   "source": [
    "If you see something like this, you are all set:\n",
    "```\n",
    "ipython-sql==0.3.8\n",
    "psycopg2==2.6.2\n",
    "```"
   ]
  },
  {
   "cell_type": "markdown",
   "metadata": {},
   "source": [
    "##  Cleaning and Loading weather data\n",
    "\n",
    "We'll download the same weather data you've worked with before, and we'll create some database tables using PostgreSQL."
   ]
  },
  {
   "cell_type": "code",
   "execution_count": null,
   "metadata": {
    "collapsed": true
   },
   "outputs": [],
   "source": [
    "%load_ext sql"
   ]
  },
  {
   "cell_type": "code",
   "execution_count": null,
   "metadata": {},
   "outputs": [],
   "source": [
    "!createdb -U student week13"
   ]
  },
  {
   "cell_type": "code",
   "execution_count": null,
   "metadata": {},
   "outputs": [],
   "source": [
    "%sql postgresql://student@/week13"
   ]
  },
  {
   "cell_type": "markdown",
   "metadata": {},
   "source": [
    "Download Washington DC's weather data for the first quarter of 2017 as a zip file and unzip it:"
   ]
  },
  {
   "cell_type": "code",
   "execution_count": null,
   "metadata": {},
   "outputs": [],
   "source": [
    "!wget -O weather2017q1.csv.zip https://raw.githubusercontent.com/tongwang/data2017/master/lectures/star-week-01/weather2017q1.csv.zip\n",
    "!unzip -o weather2017q1.csv.zip"
   ]
  },
  {
   "cell_type": "markdown",
   "metadata": {},
   "source": [
    "We are going to repeat the same commands as we did last week to clean up the data:"
   ]
  },
  {
   "cell_type": "code",
   "execution_count": null,
   "metadata": {
    "collapsed": true
   },
   "outputs": [],
   "source": [
    "!csvstack weather-201701*.csv weather-201702*.csv weather-201703*.csv > weather-2017q1.csv"
   ]
  },
  {
   "cell_type": "code",
   "execution_count": null,
   "metadata": {},
   "outputs": [],
   "source": [
    "!sed -i 's/<br \\/>//g;/^$/d' weather-2017q1.csv\n",
    "!sed -i 's/,N\\/A,/,,/g;s/,-,/,,/g;;s/,None,/,,/g' weather-2017q1.csv"
   ]
  },
  {
   "cell_type": "code",
   "execution_count": null,
   "metadata": {},
   "outputs": [],
   "source": [
    "!head weather-2017q1.csv | csvlook"
   ]
  },
  {
   "cell_type": "code",
   "execution_count": null,
   "metadata": {},
   "outputs": [],
   "source": [
    "!csvstat weather-2017q1.csv"
   ]
  },
  {
   "cell_type": "markdown",
   "metadata": {},
   "source": [
    "Based on these values, I expect we can work with the following schema for weather:"
   ]
  },
  {
   "cell_type": "code",
   "execution_count": null,
   "metadata": {},
   "outputs": [],
   "source": [
    "%%sql\n",
    "DROP TABLE IF EXISTS weather;\n",
    "CREATE TABLE weather (\n",
    "    id SERIAL PRIMARY KEY,\n",
    "    time_str VARCHAR(8),\n",
    "    temp NUMERIC,\n",
    "    dew_point NUMERIC,\n",
    "    humidity NUMERIC,\n",
    "    pressure NUMERIC,\n",
    "    visibility NUMERIC,\n",
    "    wind_dir VARCHAR(8),\n",
    "    wind_speed VARCHAR(10),\n",
    "    gust_speed NUMERIC,\n",
    "    precipitation NUMERIC,\n",
    "    events VARCHAR(50),\n",
    "    conditions VARCHAR(50),\n",
    "    wind_dir_degrees NUMERIC,\n",
    "    time_utc TIMESTAMPTZ,\n",
    "    time TIMESTAMP\n",
    ")"
   ]
  },
  {
   "cell_type": "markdown",
   "metadata": {},
   "source": [
    "Now we'll load the data into PostgreSQL. Note that this requires the use of an absolute path, so adjust it to your location:"
   ]
  },
  {
   "cell_type": "code",
   "execution_count": null,
   "metadata": {},
   "outputs": [],
   "source": [
    "!pwd"
   ]
  },
  {
   "cell_type": "code",
   "execution_count": null,
   "metadata": {},
   "outputs": [],
   "source": [
    "%%sql\n",
    "COPY weather \n",
    "(time_str, temp, dew_point, humidity, pressure, visibility, wind_dir, wind_speed, gust_speed, precipitation, events, conditions, wind_dir_degrees, time_utc)\n",
    "FROM '/home/ubuntu/star-week3/weather-2017q1.csv'\n",
    "CSV\n",
    "HEADER\n",
    "QUOTE '\"'\n",
    "DELIMITER ',';"
   ]
  },
  {
   "cell_type": "code",
   "execution_count": null,
   "metadata": {},
   "outputs": [],
   "source": [
    "%%sql\n",
    "SELECT * from weather LIMIT 10;"
   ]
  },
  {
   "cell_type": "markdown",
   "metadata": {},
   "source": [
    "Next, we need to convert UTC time to EST or EDT. We know Daylight Saving Time started on Sunday, March 12, 2017, 2:00:00 am. The conversion takes two steps:"
   ]
  },
  {
   "cell_type": "markdown",
   "metadata": {},
   "source": [
    "First we convert UTC times to EST times and populate `time` attribute for all `time_utc` values before `2017-03-12 07:00:00+00:00`, which is Sunday, March 12, 2017, 2:00:00 am. "
   ]
  },
  {
   "cell_type": "code",
   "execution_count": null,
   "metadata": {},
   "outputs": [],
   "source": [
    "%%sql\n",
    "UPDATE weather SET time = time_utc AT TIME ZONE 'EST'\n",
    "WHERE time_utc <= '2017-03-12 07:00:00+00:00';"
   ]
  },
  {
   "cell_type": "markdown",
   "metadata": {},
   "source": [
    "Next we convert UTC times to EDT times and populate `time` attribute for all `time_utc` values after `2017-03-12 07:00:00+00:00`, which is Sunday, March 12, 2017, 2:00:00 am. "
   ]
  },
  {
   "cell_type": "code",
   "execution_count": null,
   "metadata": {},
   "outputs": [],
   "source": [
    "%%sql\n",
    "UPDATE weather SET time = time_utc AT TIME ZONE 'EDT'\n",
    "WHERE time_utc > '2017-03-12 07:00:00+00:00';"
   ]
  },
  {
   "cell_type": "markdown",
   "metadata": {},
   "source": [
    "Verify that time attributes look okay on March 12:"
   ]
  },
  {
   "cell_type": "code",
   "execution_count": null,
   "metadata": {},
   "outputs": [],
   "source": [
    "%%sql\n",
    "SELECT time_str, time from weather \n",
    "WHERE TO_CHAR(time, 'YYYY-MM-DD') = '2017-03-12'\n",
    "ORDER BY time;"
   ]
  },
  {
   "cell_type": "markdown",
   "metadata": {},
   "source": [
    "## Snapshop fact table\n",
    "### Creating the dimension table\n",
    "We are going to create a dimension table called `Hours` to store hours in the first quarter of 2017."
   ]
  },
  {
   "cell_type": "code",
   "execution_count": null,
   "metadata": {},
   "outputs": [],
   "source": [
    "%%sql\n",
    "SELECT TO_CHAR(time, 'YYYY-MM-DD HH24') AS hour,\n",
    "    TO_CHAR(time, 'YYYY-MM-DD') AS day, \n",
    "    CAST(TO_CHAR(time, 'YYYY') AS INTEGER) AS year,\n",
    "    CAST(TO_CHAR(time, 'MM') AS INTEGER) AS month_of_year,\n",
    "    CAST(TO_CHAR(time, 'DD') AS INTEGER) AS day_of_month,\n",
    "    TO_CHAR(time, 'Day') AS day_of_week_str,\n",
    "    CAST(TO_CHAR(time, 'D') AS INTEGER) AS day_of_week,\n",
    "    CASE WHEN CAST(TO_CHAR(time, 'D') AS INTEGER) IN (1, 7) \n",
    "        THEN TRUE\n",
    "        ELSE FALSE\n",
    "    END AS is_weekend,\n",
    "    CASE WHEN CAST(TO_CHAR(time, 'D') AS INTEGER) NOT IN (1, 7) \n",
    "        THEN TRUE\n",
    "        ELSE FALSE\n",
    "    END AS is_weekday,\n",
    "    CAST(TO_CHAR(time, 'HH24') AS INTEGER) AS hour_of_day,\n",
    "    CAST(TO_CHAR(time, 'Q') AS INTEGER) AS quarter\n",
    "FROM weather\n",
    "LIMIT 20;"
   ]
  },
  {
   "cell_type": "code",
   "execution_count": null,
   "metadata": {},
   "outputs": [],
   "source": [
    "%%sql\n",
    "DROP TABLE IF EXISTS hours;\n",
    "CREATE TABLE hours (\n",
    "    id SERIAL PRIMARY KEY,\n",
    "    hour CHAR(13),\n",
    "    day CHAR(10),\n",
    "    year INTEGER,\n",
    "    month_of_year INTEGER,\n",
    "    day_of_month INTEGER,\n",
    "    day_of_week_str CHAR(9),\n",
    "    day_of_week INTEGER,\n",
    "    is_weekend BOOLEAN,\n",
    "    is_weekday BOOLEAN,\n",
    "    hour_of_day INTEGER,\n",
    "    quarter INTEGER\n",
    ");"
   ]
  },
  {
   "cell_type": "code",
   "execution_count": null,
   "metadata": {},
   "outputs": [],
   "source": [
    "%%sql\n",
    "INSERT INTO hours (hour, day, year, month_of_year, day_of_month, day_of_week_str, day_of_week,\n",
    "                  is_weekend, is_weekday, hour_of_day, quarter)\n",
    "SELECT DISTINCT TO_CHAR(time, 'YYYY-MM-DD HH24') AS hour,\n",
    "    TO_CHAR(time, 'YYYY-MM-DD') AS day, \n",
    "    CAST(TO_CHAR(time, 'YYYY') AS INTEGER) AS year,\n",
    "    CAST(TO_CHAR(time, 'MM') AS INTEGER) AS month_of_year,\n",
    "    CAST(TO_CHAR(time, 'DD') AS INTEGER) AS day_of_month,\n",
    "    TO_CHAR(time, 'Day') AS day_of_week_str,\n",
    "    CAST(TO_CHAR(time, 'D') AS INTEGER) AS day_of_week,\n",
    "    CASE WHEN CAST(TO_CHAR(time, 'D') AS INTEGER) IN (1, 7) \n",
    "        THEN TRUE\n",
    "        ELSE FALSE\n",
    "    END AS is_weekend,\n",
    "    CASE WHEN CAST(TO_CHAR(time, 'D') AS INTEGER) NOT IN (1, 7) \n",
    "        THEN TRUE\n",
    "        ELSE FALSE\n",
    "    END AS is_weekday,\n",
    "    CAST(TO_CHAR(time, 'HH24') AS INTEGER) AS hour_of_day,\n",
    "    CAST(TO_CHAR(time, 'Q') AS INTEGER) AS quarter\n",
    "FROM weather;"
   ]
  },
  {
   "cell_type": "code",
   "execution_count": null,
   "metadata": {},
   "outputs": [],
   "source": [
    "%%sql\n",
    "SELECT * FROM hours where day = '2017-03-12';"
   ]
  },
  {
   "cell_type": "markdown",
   "metadata": {},
   "source": [
    "### Creating the snapshot table"
   ]
  },
  {
   "cell_type": "code",
   "execution_count": null,
   "metadata": {},
   "outputs": [],
   "source": [
    "%%sql\n",
    "DROP TABLE IF EXISTS weather_fact;\n",
    "CREATE TABLE weather_fact (\n",
    "    id INTEGER,\n",
    "    temp NUMERIC,\n",
    "    dew_point NUMERIC,\n",
    "    humidity NUMERIC,\n",
    "    pressure NUMERIC,\n",
    "    visibility NUMERIC,\n",
    "    wind_dir VARCHAR(8),\n",
    "    wind_speed VARCHAR(10),\n",
    "    gust_speed NUMERIC,\n",
    "    precipitation NUMERIC,\n",
    "    events VARCHAR(50),\n",
    "    conditions VARCHAR(50),\n",
    "    wind_dir_degrees NUMERIC,\n",
    "    hour_id INTEGER REFERENCES hours (id)\n",
    ");"
   ]
  },
  {
   "cell_type": "markdown",
   "metadata": {},
   "source": [
    "Populate the snapshot fact table with the data from `weather` table and `hours` table."
   ]
  },
  {
   "cell_type": "code",
   "execution_count": null,
   "metadata": {},
   "outputs": [],
   "source": [
    "%%sql\n",
    "INSERT INTO weather_fact\n",
    "SELECT w.id, w.temp, w.dew_point, w.humidity, w.pressure, w.visibility, w.wind_dir, \n",
    "       w.wind_speed, w.gust_speed, w.precipitation, w.events, w.conditions, \n",
    "       w.wind_dir_degrees, h.id\n",
    "FROM weather AS w, hours AS h\n",
    "WHERE h.hour = TO_CHAR(w.time, 'YYYY-MM-DD HH24');"
   ]
  },
  {
   "cell_type": "markdown",
   "metadata": {},
   "source": [
    "Make sure weather is sample only once per hour. Let's query `weather_fact` table to see if there is any hour that has multiple weather readings."
   ]
  },
  {
   "cell_type": "code",
   "execution_count": null,
   "metadata": {},
   "outputs": [],
   "source": [
    "%%sql\n",
    "SELECT hour_id, COUNT(*) FROM weather_fact \n",
    "GROUP BY hour_id\n",
    "HAVING COUNT(*) > 1\n",
    "LIMIT 10;"
   ]
  },
  {
   "cell_type": "markdown",
   "metadata": {},
   "source": [
    "Apparently some hours have more than one reading. For example hour `541` has 7 readings:"
   ]
  },
  {
   "cell_type": "code",
   "execution_count": null,
   "metadata": {},
   "outputs": [],
   "source": [
    "%%sql\n",
    "SELECT * FROM weather_fact\n",
    "WHERE hour_id = 541;"
   ]
  },
  {
   "cell_type": "markdown",
   "metadata": {},
   "source": [
    "Only keep the first weather reading for each hour by removing all subsequent readings within the same hour:"
   ]
  },
  {
   "cell_type": "code",
   "execution_count": null,
   "metadata": {},
   "outputs": [],
   "source": [
    "%%sql\n",
    "DELETE FROM weather_fact t1\n",
    "  USING weather_fact t2\n",
    "  WHERE t2.hour_id = t1.hour_id\n",
    "  AND t1.id > t2.id;"
   ]
  },
  {
   "cell_type": "code",
   "execution_count": null,
   "metadata": {},
   "outputs": [],
   "source": [
    "%%sql\n",
    "SELECT hour_id, COUNT(*) FROM weather_fact \n",
    "GROUP BY hour_id\n",
    "HAVING COUNT(*) > 1\n",
    "LIMIT 10;"
   ]
  },
  {
   "cell_type": "code",
   "execution_count": null,
   "metadata": {},
   "outputs": [],
   "source": [
    "%%sql\n",
    "SELECT COUNT(*) FROM hours;"
   ]
  },
  {
   "cell_type": "code",
   "execution_count": null,
   "metadata": {},
   "outputs": [],
   "source": [
    "%%sql\n",
    "SELECT COUNT(*) FROM weather_fact;"
   ]
  },
  {
   "cell_type": "markdown",
   "metadata": {},
   "source": [
    "How may hours in the first quarter of 2017?"
   ]
  },
  {
   "cell_type": "code",
   "execution_count": null,
   "metadata": {},
   "outputs": [],
   "source": [
    "24 * (31 + 28 + 31)"
   ]
  },
  {
   "cell_type": "markdown",
   "metadata": {},
   "source": [
    "Three hours are missing from `hours` dimension table:"
   ]
  },
  {
   "cell_type": "code",
   "execution_count": null,
   "metadata": {},
   "outputs": [],
   "source": [
    "%%sql\n",
    "SELECT day, COUNT(*)\n",
    "FROM hours\n",
    "GROUP BY day\n",
    "HAVING COUNT(*) < 24;"
   ]
  },
  {
   "cell_type": "markdown",
   "metadata": {},
   "source": [
    "We know we lost one hour on 2017-03-12 as we \"spring forward\". Let's look at what happened on 2017-03-14:"
   ]
  },
  {
   "cell_type": "code",
   "execution_count": null,
   "metadata": {},
   "outputs": [],
   "source": [
    "%%sql\n",
    "SELECT id, time\n",
    "FROM weather\n",
    "WHERE TO_CHAR(time, 'YYYY-MM-DD') = '2017-03-14';"
   ]
  },
  {
   "cell_type": "markdown",
   "metadata": {},
   "source": [
    "There is no reading for hour 16 on that day!"
   ]
  },
  {
   "cell_type": "markdown",
   "metadata": {},
   "source": [
    "We don't need `id` attribute for fact table, let's drop it:"
   ]
  },
  {
   "cell_type": "code",
   "execution_count": null,
   "metadata": {},
   "outputs": [],
   "source": [
    "%%sql\n",
    "ALTER TABLE weather_fact DROP column id;"
   ]
  },
  {
   "cell_type": "markdown",
   "metadata": {},
   "source": [
    "Now it is time to explore the data:"
   ]
  },
  {
   "cell_type": "code",
   "execution_count": null,
   "metadata": {},
   "outputs": [],
   "source": [
    "%%sql\n",
    "SELECT h.hour_of_day, AVG(temp)\n",
    "FROM weather_fact AS w\n",
    "JOIN hours AS h\n",
    "ON h.id = w.hour_id\n",
    "WHERE h.month_of_year = 3\n",
    "GROUP BY h.hour_of_day\n",
    "ORDER BY hour_of_day;"
   ]
  },
  {
   "cell_type": "code",
   "execution_count": null,
   "metadata": {
    "collapsed": true
   },
   "outputs": [],
   "source": [
    "%matplotlib inline"
   ]
  },
  {
   "cell_type": "code",
   "execution_count": null,
   "metadata": {},
   "outputs": [],
   "source": [
    "result = _\n",
    "result.bar()"
   ]
  }
 ],
 "metadata": {
  "anaconda-cloud": {},
  "kernelspec": {
   "display_name": "Python 3",
   "language": "python",
   "name": "python3"
  },
  "language_info": {
   "codemirror_mode": {
    "name": "ipython",
    "version": 3
   },
   "file_extension": ".py",
   "mimetype": "text/x-python",
   "name": "python",
   "nbconvert_exporter": "python",
   "pygments_lexer": "ipython3",
   "version": "3.5.3"
  }
 },
 "nbformat": 4,
 "nbformat_minor": 1
}
